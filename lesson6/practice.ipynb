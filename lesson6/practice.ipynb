{
 "cells": [
  {
   "cell_type": "markdown",
   "metadata": {},
   "source": [
    "### Исключения и обработка ошибок"
   ]
  },
  {
   "cell_type": "markdown",
   "metadata": {},
   "source": [
    "Задача 1\n",
    "Печатные газеты использовали свой формат дат для каждого выпуска. Для каждой газеты из списка напишите формат указанной даты для перевода в объект datetime:\n",
    "The Moscow Times - Wednesday, October 2, 2002\n",
    "The Guardian - Friday, 11.10.13\n",
    "Daily News - Thursday, 18 August 1977"
   ]
  },
  {
   "cell_type": "code",
   "execution_count": 67,
   "metadata": {},
   "outputs": [
    {
     "name": "stdout",
     "output_type": "stream",
     "text": [
      "Введите выпуск газеты: 234\n",
      "Что-то пошло не так...\n",
      "2021-04-18 20:18:22.055864\n"
     ]
    }
   ],
   "source": [
    "from datetime import datetime as dt\n",
    "vipusk = input('Введите выпуск газеты: ')\n",
    "day = dt.now()\n",
    "def execute_date(str):\n",
    "     try:\n",
    "         spisok = str.split(' - ')\n",
    "         return spisok[1]\n",
    "     except:\n",
    "        return 0\n",
    "\n",
    "try:\n",
    "    day = dt.strptime(execute_date(vipusk), '%A, %B %d, %Y')\n",
    "except:\n",
    "    try:\n",
    "        day = dt.strptime(execute_date(vipusk), '%A, %d.%m.%y')\n",
    "    except:\n",
    "        try:\n",
    "            day = dt.strptime(execute_date(vipusk), '%A, %d %B %Y')\n",
    "        except:\n",
    "            day = dt.now()\n",
    "            print('Что-то пошло не так...')\n",
    "print(day)            "
   ]
  },
  {
   "cell_type": "markdown",
   "metadata": {},
   "source": [
    "Задание 2\n",
    "Дан поток дат в формате YYYY-MM-DD, в которых встречаются некорректные значения:\n",
    "stream = [‘2018-04-02’, ‘2018-02-29’, ‘2018-19-02’]\n",
    "\n",
    "Напишите функцию, которая проверяет эти даты на корректность. Т. е. для каждой даты возвращает True (дата корректна) или False (некорректная дата)."
   ]
  },
  {
   "cell_type": "code",
   "execution_count": 66,
   "metadata": {},
   "outputs": [
    {
     "name": "stdout",
     "output_type": "stream",
     "text": [
      "2018-04-02 True\n",
      "2018-02-29 False\n",
      "2018-19-02 False\n"
     ]
    }
   ],
   "source": [
    "from datetime import datetime as dt\n",
    "stream = ['2018-04-02', '2018-02-29', '2018-19-02']\n",
    "\n",
    "def is_ok_dates(list):\n",
    "    for day in list:\n",
    "        try:\n",
    "            day = dt.strptime(day, '%Y-%m-%d')\n",
    "            day = dt.strftime(day, '%Y-%m-%d')\n",
    "            print(day, True)\n",
    "        except:\n",
    "            print(day, False)\n",
    "is_ok_dates(stream)"
   ]
  },
  {
   "cell_type": "markdown",
   "metadata": {},
   "source": [
    "Задание 3\n",
    "Напишите функцию date_range, которая возвращает список дат за период от start_date до end_date. Даты должны вводиться в формате YYYY-MM-DD. В случае неверного формата или при start_date > end_date должен возвращаться пустой список."
   ]
  },
  {
   "cell_type": "code",
   "execution_count": 59,
   "metadata": {},
   "outputs": [
    {
     "data": {
      "text/plain": [
       "['2020-01-01',\n",
       " '2020-01-02',\n",
       " '2020-01-03',\n",
       " '2020-01-04',\n",
       " '2020-01-05',\n",
       " '2020-01-06',\n",
       " '2020-01-07',\n",
       " '2020-01-08',\n",
       " '2020-01-09',\n",
       " '2020-01-10',\n",
       " '2020-01-11',\n",
       " '2020-01-12',\n",
       " '2020-01-13',\n",
       " '2020-01-14',\n",
       " '2020-01-15',\n",
       " '2020-01-16',\n",
       " '2020-01-17',\n",
       " '2020-01-18',\n",
       " '2020-01-19',\n",
       " '2020-01-20',\n",
       " '2020-01-21',\n",
       " '2020-01-22',\n",
       " '2020-01-23',\n",
       " '2020-01-24',\n",
       " '2020-01-25',\n",
       " '2020-01-26',\n",
       " '2020-01-27',\n",
       " '2020-01-28',\n",
       " '2020-01-29',\n",
       " '2020-01-30',\n",
       " '2020-01-31',\n",
       " '2020-02-01']"
      ]
     },
     "execution_count": 59,
     "metadata": {},
     "output_type": "execute_result"
    }
   ],
   "source": [
    "from datetime import timedelta as td\n",
    "from datetime import datetime as dt\n",
    "\n",
    "def date_range(start_date,end_date):\n",
    "    list = []\n",
    "    try:\n",
    "        date1 = dt.strptime(start_date, '%Y-%m-%d')\n",
    "        date2 = dt.strptime(end_date, '%Y-%m-%d')\n",
    "        i = date1 \n",
    "        while i <= date2:\n",
    "            list.append(i.strftime('%Y-%m-%d'))\n",
    "            i += td(days=1)\n",
    "        return list\n",
    "    except:\n",
    "        return list\n",
    "\n",
    "date_range('2020-01-01','2020-02-01')\n",
    "\n",
    "        "
   ]
  },
  {
   "cell_type": "code",
   "execution_count": 65,
   "metadata": {
    "scrolled": true
   },
   "outputs": [],
   "source": [
    "   "
   ]
  },
  {
   "cell_type": "code",
   "execution_count": null,
   "metadata": {},
   "outputs": [],
   "source": []
  }
 ],
 "metadata": {
  "kernelspec": {
   "display_name": "Python 3",
   "language": "python",
   "name": "python3"
  },
  "language_info": {
   "codemirror_mode": {
    "name": "ipython",
    "version": 3
   },
   "file_extension": ".py",
   "mimetype": "text/x-python",
   "name": "python",
   "nbconvert_exporter": "python",
   "pygments_lexer": "ipython3",
   "version": "3.8.5"
  }
 },
 "nbformat": 4,
 "nbformat_minor": 4
}
