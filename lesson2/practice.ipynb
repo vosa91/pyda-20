{
 "cells": [
  {
   "cell_type": "code",
   "execution_count": 2,
   "metadata": {},
   "outputs": [],
   "source": [
    "#Задание1\n",
    "#Даны 2 переменных, в которых хранятся строки произвольной длины: phrase_1 и phrase_2.\n",
    "#Напишите код, который проверяет какая из этих строк длиннее."
   ]
  },
  {
   "cell_type": "code",
   "execution_count": 7,
   "metadata": {},
   "outputs": [
    {
     "name": "stdout",
     "output_type": "stream",
     "text": [
      "Фраза 1 длинее\n"
     ]
    }
   ],
   "source": [
    "phrase_1 = 'Насколько проще было бы писать программы, если бы не заказчики'\n",
    "phrase_2 = '640Кб должно хватить для любых задач. Билл Гейтс (по легенде)'\n",
    "if len(phrase_1)>len(phrase_2):\n",
    "    print('Фраза 1 длинее')\n",
    "elif len(phrase_1)<len(phrase_2):\n",
    "    print('Фраза 2 длинее')\n",
    "else:\n",
    "    print('Фразы равны')"
   ]
  },
  {
   "cell_type": "code",
   "execution_count": 8,
   "metadata": {},
   "outputs": [],
   "source": [
    "#Задание 2\n",
    "#Дана переменная, в которой хранится четырехзначное число (год). \n",
    "#Необходимо написать программу, которая выведет, является ли данный год високосным или обычным"
   ]
  },
  {
   "cell_type": "code",
   "execution_count": 13,
   "metadata": {},
   "outputs": [
    {
     "name": "stdout",
     "output_type": "stream",
     "text": [
      "Введите год:2021\n",
      "Год обычный\n"
     ]
    }
   ],
   "source": [
    "year_id = float(input('Введите год:'))\n",
    "if year_id % 4 == 0:\n",
    "    print('Год високосный')\n",
    "else:     \n",
    "    print('Год обычный')"
   ]
  },
  {
   "cell_type": "code",
   "execution_count": 14,
   "metadata": {},
   "outputs": [],
   "source": [
    "#Задание 3\n",
    "#Необходимо написать программу, которая будет запрашивать у пользователя месяц\n",
    "#и дату рождения и выводить соответствующий знак зодиака."
   ]
  },
  {
   "cell_type": "code",
   "execution_count": 29,
   "metadata": {},
   "outputs": [
    {
     "name": "stdout",
     "output_type": "stream",
     "text": [
      "Введите месяц рождения:март\n",
      "Введите дату рождения:32\n",
      "Ошибка в дате или месяце\n"
     ]
    }
   ],
   "source": [
    "month_id = str(input('Введите месяц рождения:'))\n",
    "day_id = int(input('Введите дату рождения:'))\n",
    "\n",
    "#22 декабря – 20 января Козерог\n",
    "if (month_id.lower() =='январь' and day_id >=1 and day_id <=20) or (month_id.lower() =='декабрь' and day_id >=22 and day_id <=31):\n",
    "    print('Козерог')\n",
    "#21 января – 19 февраля Водолей \n",
    "elif month_id.lower() =='февраль' and day_id >=1 and day_id <=19 or month_id.lower() =='январь' and day_id >=21 and day_id <=31:\n",
    "    print('Водолей')    \n",
    "#20 февраля – 20 марта Рыбы\n",
    "elif month_id.lower() =='март' and day_id >=1 and day_id <=20 or month_id.lower() =='февраль' and day_id >=20 and day_id <=29:\n",
    "    print('Рыбы')\n",
    "#21 марта – 20 апреля Овен \n",
    "elif month_id.lower() =='апрель' and day_id >=1 and day_id <=20 or month_id.lower() =='март' and day_id >=21 and day_id <=31:\n",
    "    print('Овен')\n",
    "#21 апреля – 21 мая Телец \n",
    "elif month_id.lower() =='май' and day_id >=1 and day_id <=21 or month_id.lower() =='апрель' and day_id >=21 and day_id <=30:\n",
    "    print('Телец')\n",
    "#22 мая – 21 июня Близнецы \n",
    "elif month_id.lower() =='июнь' and day_id >=1 and day_id <=21 or month_id.lower() =='май' and day_id >=22 and day_id <=31:\n",
    "    print('Близнецы')\n",
    "#22 июня – 22 июля Рак \n",
    "elif month_id.lower() =='июль' and day_id >=1 and day_id <=22 or month_id.lower() =='июнь' and day_id >=22 and day_id <=30:\n",
    "    print('Рак')\n",
    "#23 июля – 23 августа Лев \n",
    "elif month_id.lower() =='август' and day_id >=1 and day_id <=23 or month_id.lower() =='июль' and day_id >=23 and day_id <=31:\n",
    "    print('Лев')\n",
    "#24 августа – 22 сентября Дева \n",
    "elif month_id.lower() =='сентябрь' and day_id >=1 and day_id <=22 or month_id.lower() =='август' and day_id >=24 and day_id <=31:\n",
    "    print('Дева')\n",
    "#23 сентября – 22 октября Весы \n",
    "elif month_id.lower() =='октябрь' and day_id >=1 and day_id <=22 or month_id.lower() =='сентябрь' and day_id >=23 and day_id <=30:\n",
    "    print('Весы')\n",
    "#23 октября – 22 ноября Скорпион \n",
    "elif month_id.lower() =='ноябрь' and day_id >=1 and day_id <=22 or month_id.lower() =='октябрь' and day_id >=23 and day_id <=31:\n",
    "    print('Скорпион')\n",
    "#22 ноября – 21 декабря Стрелец \n",
    "elif month_id.lower() =='декабрь' and day_id >=1 and day_id <=21 or month_id.lower() =='ноябрь' and day_id >=22 and day_id <=30:\n",
    "    print('Стрелец')\n",
    "else:\n",
    "    print('Ошибка в дате или месяце')"
   ]
  },
  {
   "cell_type": "code",
   "execution_count": 30,
   "metadata": {},
   "outputs": [],
   "source": [
    "#Задание 4\n",
    "#Вам нужно написать программу для подбора упаковок по размерам товара. Размеры хранятся в переменных (в сантиметрах):\n",
    "\n",
    "#width = 10\n",
    "#length = 205\n",
    "#height = 5\n",
    "#Используйте следующие правила:\n",
    "\n",
    "#если каждое из трех измерений менее 15 сантиметров, то выведите на экран “Коробка №1”;\n",
    "#если хотя бы одно из измерений больше 15 сантиметров, но менее 50 сантиметров, то выводите “Коробка №2”;\n",
    "#если длина товара больше 2 метров, то выводите “Упаковка для лыж”;\n",
    "#во всех остальных случаях выводите “Стандартная коробка №3”\n",
    "\n"
   ]
  },
  {
   "cell_type": "code",
   "execution_count": 42,
   "metadata": {},
   "outputs": [
    {
     "name": "stdout",
     "output_type": "stream",
     "text": [
      "Стандартная коробка №3\n"
     ]
    }
   ],
   "source": [
    "width = 120\n",
    "length = 195\n",
    "height = 5\n",
    "\n",
    "if width <= 15 and length <= 15 and height <= 15:\n",
    "    print('Коробка №1')\n",
    "elif (width > 15 and width <= 50 or length > 15 and length <= 50 or  height > 15 and height <= 50) and length <=200:\n",
    "    print('Коробка №2')\n",
    "elif length > 200: \n",
    "    print('Упаковка для лыж')\n",
    "else:\n",
    "    print('Стандартная коробка №3')\n",
    "    "
   ]
  },
  {
   "cell_type": "code",
   "execution_count": 43,
   "metadata": {},
   "outputs": [],
   "source": [
    "#Задание 5 (необязательное)\n",
    "#Дана переменная, в которой хранится шестизначное число (номер проездного билета). \n",
    "#Напишите программу, которая будет определять, является ли данный билет “счастливым”. \n",
    "#Билет считается счастливым, если сумма первых трех цифр совпадает с суммой последних трех цифр номера."
   ]
  },
  {
   "cell_type": "code",
   "execution_count": 49,
   "metadata": {},
   "outputs": [
    {
     "name": "stdout",
     "output_type": "stream",
     "text": [
      "Билет счастливый\n"
     ]
    }
   ],
   "source": [
    "bilet = '123123'\n",
    "\n",
    "if len(bilet)==6:\n",
    "    if int(bilet[0])+int(bilet[1])+int(bilet[2])==int(bilet[3])+int(bilet[4])+int(bilet[5]):\n",
    "        print('Билет счастливый')\n",
    "    else:\n",
    "        print('Билет обычный')\n",
    "else:\n",
    "    print('Номер не корректный')\n"
   ]
  },
  {
   "cell_type": "code",
   "execution_count": 50,
   "metadata": {},
   "outputs": [],
   "source": [
    "#Задание 6 (необязательное)\n",
    "#Напишите программу, которая сможет вычислять площади трех фигур (круг, треугольник и прямоугольник). \n",
    "#Тип фигуры запрашиваем через пользовательский ввод, после чего делаем запрос характеристик фигуры:\n",
    "\n",
    "#если пользователь выбрал круг, запрашиваем его радиус,\n",
    "#если треугольник – длины трех его сторон;\n",
    "#если прямоугольник – длины двух его сторон."
   ]
  },
  {
   "cell_type": "code",
   "execution_count": 62,
   "metadata": {},
   "outputs": [
    {
     "name": "stdout",
     "output_type": "stream",
     "text": [
      "Введите фигуру:круг\n",
      "Введите радиус круга:23\n",
      "Площадь круга = 1661.9\n"
     ]
    }
   ],
   "source": [
    "import math\n",
    "figura = str(input('Введите фигуру:'))\n",
    "\n",
    "if figura.lower() == 'круг': \n",
    "    r = float(input('Введите радиус круга:'))\n",
    "    print(f'Площадь {figura.lower()}а = {round(math.pi*(r**2),2)}')\n",
    "elif figura.lower() == 'треугольник':\n",
    "    a = float(input('Введите длину 1 стороны:'))\n",
    "    b = float(input('Введите длину 2 стороны:'))\n",
    "    c = float(input('Введите длину 3 стороны:'))\n",
    "    p=(a+b+c)/2\n",
    "    print(f'Площадь {figura.lower()}a = {round(math.sqrt(p*(p-a)*(p-b)*(p-c)))}')\n",
    "elif figura.lower() == 'прямоугольник':\n",
    "    d = float(input('Введите длину 1 стороны:'))\n",
    "    e = float(input('Введите длину 2 стороны:'))\n",
    "    print(f'Площадь {figura.lower()}a = {d*e}')\n",
    "else:\n",
    "    print('Неизвестная фигура')\n",
    "\n",
    "    "
   ]
  },
  {
   "cell_type": "code",
   "execution_count": null,
   "metadata": {},
   "outputs": [],
   "source": []
  }
 ],
 "metadata": {
  "kernelspec": {
   "display_name": "Python 3",
   "language": "python",
   "name": "python3"
  },
  "language_info": {
   "codemirror_mode": {
    "name": "ipython",
    "version": 3
   },
   "file_extension": ".py",
   "mimetype": "text/x-python",
   "name": "python",
   "nbconvert_exporter": "python",
   "pygments_lexer": "ipython3",
   "version": "3.8.5"
  }
 },
 "nbformat": 4,
 "nbformat_minor": 4
}
