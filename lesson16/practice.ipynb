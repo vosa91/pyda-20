{
 "cells": [
  {
   "cell_type": "markdown",
   "metadata": {},
   "source": [
    "Смоделировать игру против лотерейного автомата типа “777”. Игрок платит 1 руб., после чего выпадает случайное целое число, равномерно распределенное от 0 до 999. При некоторых значениях числа игрок получает выигрыш (см. справа)\n",
    "\n",
    "Выгодна ли игра игроку?\n",
    "\n",
    "Сколько в среднем приобретает\n",
    "или теряет игрок за одну игру?\n",
    "\n",
    "777: 200 руб.\n",
    "999: 100 руб.\n",
    "555: 50 руб.\n",
    "333: 15 руб.\n",
    "111: 10 руб.\n",
    "*77: 5 руб.\n",
    "**7: 3 руб.\n",
    "*00: 2 руб.\n",
    "**0: 1 руб."
   ]
  },
  {
   "cell_type": "code",
   "execution_count": 2,
   "metadata": {},
   "outputs": [],
   "source": [
    "def game777(number):\n",
    "    if number == 777:\n",
    "        win = 200\n",
    "    elif number == 999:\n",
    "        win = 100\n",
    "    elif number == 555:\n",
    "        win = 50\n",
    "    elif number == 333:\n",
    "        win = 15\n",
    "    elif number == 111:\n",
    "        win = 10\n",
    "    elif number % 100 == 77:\n",
    "        win = 5\n",
    "    elif number % 10 == 7:\n",
    "        win = 3\n",
    "    elif number % 100 == 0:\n",
    "        win = 2\n",
    "    elif number % 10 == 0:\n",
    "        win = 1\n",
    "    else:\n",
    "        win = 0\n",
    "    return win"
   ]
  },
  {
   "cell_type": "code",
   "execution_count": 11,
   "metadata": {},
   "outputs": [],
   "source": [
    "import numpy as np\n",
    "\n"
   ]
  },
  {
   "cell_type": "code",
   "execution_count": 33,
   "metadata": {},
   "outputs": [
    {
     "name": "stdout",
     "output_type": "stream",
     "text": [
      "Количество побед: 20330\n",
      "Кол-во попыток: 100000\n",
      "Вероятность победы монте-карло: 0.2033\n",
      "Банк после игры:-21864\n",
      "результат в среднем на игру:-0.21864\n"
     ]
    }
   ],
   "source": [
    "trials = 100000    # Количество попыток\n",
    "successes = 0    # Количество успехов\n",
    "bank = 0\n",
    "for i in range(trials):\n",
    "    bank = bank - 1\n",
    "    number = np.random.randint(1, 1000)   \n",
    "    if game777(number) > 0:\n",
    "        successes += 1\n",
    "        bank = game777(number) + bank\n",
    "        \n",
    "p_monte_carlo = successes / trials    # Вероятность из моделирования\n",
    "\n",
    "print(f'Количество побед: {successes}') \n",
    "print(f'Кол-во попыток: {trials}')\n",
    "print(f'Вероятность победы монте-карло: {p_monte_carlo}') \n",
    "print(f'Банк после игры:{bank}')\n",
    "print(f'результат в среднем на игру:{bank / trials}')"
   ]
  },
  {
   "cell_type": "code",
   "execution_count": 32,
   "metadata": {},
   "outputs": [
    {
     "data": {
      "text/plain": [
       "0.2032032032032032"
      ]
     },
     "execution_count": 32,
     "metadata": {},
     "output_type": "execute_result"
    }
   ],
   "source": [
    "all_variants = 999    # Количество вариантов\n",
    "successes = 0    # Количество успехов\n",
    "for i in range(all_variants):\n",
    "    if game777(i) > 0:\n",
    "        successes += 1\n",
    "successes / all_variants"
   ]
  },
  {
   "cell_type": "markdown",
   "metadata": {},
   "source": [
    "Вероятность победы при таком раскладе 20%.\n",
    "Денег на одноруком Джо выиграть практически не реально... :( "
   ]
  },
  {
   "cell_type": "code",
   "execution_count": null,
   "metadata": {},
   "outputs": [],
   "source": []
  }
 ],
 "metadata": {
  "kernelspec": {
   "display_name": "Python 3",
   "language": "python",
   "name": "python3"
  },
  "language_info": {
   "codemirror_mode": {
    "name": "ipython",
    "version": 3
   },
   "file_extension": ".py",
   "mimetype": "text/x-python",
   "name": "python",
   "nbconvert_exporter": "python",
   "pygments_lexer": "ipython3",
   "version": "3.8.5"
  }
 },
 "nbformat": 4,
 "nbformat_minor": 4
}
