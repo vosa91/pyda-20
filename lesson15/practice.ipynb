{
 "cells": [
  {
   "cell_type": "markdown",
   "metadata": {},
   "source": [
    "### Домашнее задание к лекции \"Визуализация данных\"\n",
    "Вам необходимо провести базовый EDA выбранного набора данных.\n",
    "Требования к анализу:\n",
    "\n",
    "- построить не менее 4 визуализаций различных видов;\n",
    "- каждая визуализация должным образом оформлена и читается даже в отрыве от контекста;\n",
    "- по каждой визуализации необходимо написать вывод (какую гипотезу на ее основе можно выдвинуть?).\n",
    "\n",
    "Можете взять свои рабочие данные, либо найти открытые данные (например, на kaggle.com) по интересующей вас предметной области (тогда не забудьте их выложить на github вместе с ноутбуком). Если идей нет, можете взять один из перечисленных ниже:\n",
    "\n",
    "Построить дополнительно не менее 2 визуализаций (итого не менее 6);\n",
    "в работе должны присутствовать следующие визуализации: boxplot, heatmap, scatter plot matrix;"
   ]
  },
  {
   "cell_type": "code",
   "execution_count": 1,
   "metadata": {},
   "outputs": [
    {
     "name": "stderr",
     "output_type": "stream",
     "text": [
      "Matplotlib is building the font cache; this may take a moment.\n"
     ]
    }
   ],
   "source": [
    "import matplotlib.pyplot as plt\n",
    "import pandas as pd\n",
    "import numpy as np"
   ]
  },
  {
   "cell_type": "code",
   "execution_count": 240,
   "metadata": {},
   "outputs": [],
   "source": [
    "df = pd.read_csv('results.csv')"
   ]
  },
  {
   "cell_type": "code",
   "execution_count": 241,
   "metadata": {},
   "outputs": [],
   "source": [
    "from pylab import rcParams\n",
    "rcParams['figure.figsize'] = 11,5"
   ]
  },
  {
   "cell_type": "code",
   "execution_count": 242,
   "metadata": {},
   "outputs": [
    {
     "name": "stdout",
     "output_type": "stream",
     "text": [
      "<class 'pandas.core.frame.DataFrame'>\n",
      "RangeIndex: 42084 entries, 0 to 42083\n",
      "Data columns (total 9 columns):\n",
      " #   Column      Non-Null Count  Dtype \n",
      "---  ------      --------------  ----- \n",
      " 0   date        42084 non-null  object\n",
      " 1   home_team   42084 non-null  object\n",
      " 2   away_team   42084 non-null  object\n",
      " 3   home_score  42084 non-null  int64 \n",
      " 4   away_score  42084 non-null  int64 \n",
      " 5   tournament  42084 non-null  object\n",
      " 6   city        42084 non-null  object\n",
      " 7   country     42084 non-null  object\n",
      " 8   neutral     42084 non-null  bool  \n",
      "dtypes: bool(1), int64(2), object(6)\n",
      "memory usage: 2.6+ MB\n"
     ]
    }
   ],
   "source": [
    "df.info()"
   ]
  },
  {
   "cell_type": "code",
   "execution_count": 243,
   "metadata": {},
   "outputs": [],
   "source": [
    "def home_res(row):\n",
    "    if row['home_score'] > row['away_score']:\n",
    "        return 'W'\n",
    "    elif row['home_score'] == row['away_score']:\n",
    "        return 'D'\n",
    "    else :\n",
    "        return 'L'\n",
    "\n",
    "df['home_res'] = df.apply(home_res, axis = 1)"
   ]
  },
  {
   "cell_type": "code",
   "execution_count": 244,
   "metadata": {},
   "outputs": [],
   "source": [
    "def away_res(row):\n",
    "    if row['home_score'] < row['away_score']:\n",
    "        return 'W'\n",
    "    elif row['home_score'] == row['away_score']:\n",
    "        return 'D'\n",
    "    else :\n",
    "        return 'L'\n",
    "\n",
    "df['away_res'] = df.apply(away_res, axis = 1)"
   ]
  },
  {
   "cell_type": "code",
   "execution_count": 245,
   "metadata": {},
   "outputs": [],
   "source": [
    "def score_dif(row):\n",
    "    return row['home_score'] - row['away_score']\n",
    "\n",
    "df['score_dif'] = df.apply(score_dif, axis = 1)"
   ]
  },
  {
   "cell_type": "code",
   "execution_count": 246,
   "metadata": {},
   "outputs": [],
   "source": [
    "def to_year(row):\n",
    "    return row['date'][:4]\n",
    "\n",
    "df['to_year'] = df.apply(to_year, axis = 1)"
   ]
  },
  {
   "cell_type": "code",
   "execution_count": 247,
   "metadata": {},
   "outputs": [
    {
     "data": {
      "text/html": [
       "<div>\n",
       "<style scoped>\n",
       "    .dataframe tbody tr th:only-of-type {\n",
       "        vertical-align: middle;\n",
       "    }\n",
       "\n",
       "    .dataframe tbody tr th {\n",
       "        vertical-align: top;\n",
       "    }\n",
       "\n",
       "    .dataframe thead th {\n",
       "        text-align: right;\n",
       "    }\n",
       "</style>\n",
       "<table border=\"1\" class=\"dataframe\">\n",
       "  <thead>\n",
       "    <tr style=\"text-align: right;\">\n",
       "      <th></th>\n",
       "      <th>date</th>\n",
       "      <th>home_team</th>\n",
       "      <th>away_team</th>\n",
       "      <th>home_score</th>\n",
       "      <th>away_score</th>\n",
       "      <th>tournament</th>\n",
       "      <th>city</th>\n",
       "      <th>country</th>\n",
       "      <th>neutral</th>\n",
       "      <th>home_res</th>\n",
       "      <th>away_res</th>\n",
       "      <th>score_dif</th>\n",
       "      <th>to_year</th>\n",
       "    </tr>\n",
       "  </thead>\n",
       "  <tbody>\n",
       "    <tr>\n",
       "      <th>0</th>\n",
       "      <td>1872-11-30</td>\n",
       "      <td>Scotland</td>\n",
       "      <td>England</td>\n",
       "      <td>0</td>\n",
       "      <td>0</td>\n",
       "      <td>Friendly</td>\n",
       "      <td>Glasgow</td>\n",
       "      <td>Scotland</td>\n",
       "      <td>False</td>\n",
       "      <td>D</td>\n",
       "      <td>D</td>\n",
       "      <td>0</td>\n",
       "      <td>1872</td>\n",
       "    </tr>\n",
       "    <tr>\n",
       "      <th>1</th>\n",
       "      <td>1873-03-08</td>\n",
       "      <td>England</td>\n",
       "      <td>Scotland</td>\n",
       "      <td>4</td>\n",
       "      <td>2</td>\n",
       "      <td>Friendly</td>\n",
       "      <td>London</td>\n",
       "      <td>England</td>\n",
       "      <td>False</td>\n",
       "      <td>W</td>\n",
       "      <td>L</td>\n",
       "      <td>2</td>\n",
       "      <td>1873</td>\n",
       "    </tr>\n",
       "    <tr>\n",
       "      <th>2</th>\n",
       "      <td>1874-03-07</td>\n",
       "      <td>Scotland</td>\n",
       "      <td>England</td>\n",
       "      <td>2</td>\n",
       "      <td>1</td>\n",
       "      <td>Friendly</td>\n",
       "      <td>Glasgow</td>\n",
       "      <td>Scotland</td>\n",
       "      <td>False</td>\n",
       "      <td>W</td>\n",
       "      <td>L</td>\n",
       "      <td>1</td>\n",
       "      <td>1874</td>\n",
       "    </tr>\n",
       "    <tr>\n",
       "      <th>3</th>\n",
       "      <td>1875-03-06</td>\n",
       "      <td>England</td>\n",
       "      <td>Scotland</td>\n",
       "      <td>2</td>\n",
       "      <td>2</td>\n",
       "      <td>Friendly</td>\n",
       "      <td>London</td>\n",
       "      <td>England</td>\n",
       "      <td>False</td>\n",
       "      <td>D</td>\n",
       "      <td>D</td>\n",
       "      <td>0</td>\n",
       "      <td>1875</td>\n",
       "    </tr>\n",
       "    <tr>\n",
       "      <th>4</th>\n",
       "      <td>1876-03-04</td>\n",
       "      <td>Scotland</td>\n",
       "      <td>England</td>\n",
       "      <td>3</td>\n",
       "      <td>0</td>\n",
       "      <td>Friendly</td>\n",
       "      <td>Glasgow</td>\n",
       "      <td>Scotland</td>\n",
       "      <td>False</td>\n",
       "      <td>W</td>\n",
       "      <td>L</td>\n",
       "      <td>3</td>\n",
       "      <td>1876</td>\n",
       "    </tr>\n",
       "  </tbody>\n",
       "</table>\n",
       "</div>"
      ],
      "text/plain": [
       "         date home_team away_team  home_score  away_score tournament     city  \\\n",
       "0  1872-11-30  Scotland   England           0           0   Friendly  Glasgow   \n",
       "1  1873-03-08   England  Scotland           4           2   Friendly   London   \n",
       "2  1874-03-07  Scotland   England           2           1   Friendly  Glasgow   \n",
       "3  1875-03-06   England  Scotland           2           2   Friendly   London   \n",
       "4  1876-03-04  Scotland   England           3           0   Friendly  Glasgow   \n",
       "\n",
       "    country  neutral home_res away_res  score_dif to_year  \n",
       "0  Scotland    False        D        D          0    1872  \n",
       "1   England    False        W        L          2    1873  \n",
       "2  Scotland    False        W        L          1    1874  \n",
       "3   England    False        D        D          0    1875  \n",
       "4  Scotland    False        W        L          3    1876  "
      ]
     },
     "execution_count": 247,
     "metadata": {},
     "output_type": "execute_result"
    }
   ],
   "source": [
    "df.head()"
   ]
  },
  {
   "cell_type": "code",
   "execution_count": 248,
   "metadata": {},
   "outputs": [
    {
     "name": "stdout",
     "output_type": "stream",
     "text": [
      "<class 'pandas.core.frame.DataFrame'>\n",
      "RangeIndex: 42084 entries, 0 to 42083\n",
      "Data columns (total 13 columns):\n",
      " #   Column      Non-Null Count  Dtype \n",
      "---  ------      --------------  ----- \n",
      " 0   date        42084 non-null  object\n",
      " 1   home_team   42084 non-null  object\n",
      " 2   away_team   42084 non-null  object\n",
      " 3   home_score  42084 non-null  int64 \n",
      " 4   away_score  42084 non-null  int64 \n",
      " 5   tournament  42084 non-null  object\n",
      " 6   city        42084 non-null  object\n",
      " 7   country     42084 non-null  object\n",
      " 8   neutral     42084 non-null  bool  \n",
      " 9   home_res    42084 non-null  object\n",
      " 10  away_res    42084 non-null  object\n",
      " 11  score_dif   42084 non-null  int64 \n",
      " 12  to_year     42084 non-null  object\n",
      "dtypes: bool(1), int64(3), object(9)\n",
      "memory usage: 3.9+ MB\n"
     ]
    }
   ],
   "source": [
    "df.info()"
   ]
  },
  {
   "cell_type": "code",
   "execution_count": 252,
   "metadata": {},
   "outputs": [],
   "source": [
    "df = df[['home_team','away_team','home_score','away_score','tournament','home_res','city','away_res','score_dif','to_year']]"
   ]
  },
  {
   "cell_type": "code",
   "execution_count": 253,
   "metadata": {
    "scrolled": true
   },
   "outputs": [
    {
     "name": "stderr",
     "output_type": "stream",
     "text": [
      "<ipython-input-253-523607e0c9ef>:1: SettingWithCopyWarning: \n",
      "A value is trying to be set on a copy of a slice from a DataFrame.\n",
      "Try using .loc[row_indexer,col_indexer] = value instead\n",
      "\n",
      "See the caveats in the documentation: https://pandas.pydata.org/pandas-docs/stable/user_guide/indexing.html#returning-a-view-versus-a-copy\n",
      "  df['to_year'] = pd.to_numeric(df['to_year'], errors='coerce')\n"
     ]
    }
   ],
   "source": [
    "df['to_year'] = pd.to_numeric(df['to_year'], errors='coerce')"
   ]
  },
  {
   "cell_type": "code",
   "execution_count": 257,
   "metadata": {},
   "outputs": [],
   "source": [
    "df = df [df.to_year >= 2000 ]"
   ]
  },
  {
   "cell_type": "code",
   "execution_count": 258,
   "metadata": {},
   "outputs": [],
   "source": [
    "dynamics_by_year = df[['home_score', 'away_score', 'to_year']] \\\n",
    "    .groupby('to_year').sum()"
   ]
  },
  {
   "cell_type": "code",
   "execution_count": 259,
   "metadata": {},
   "outputs": [
    {
     "data": {
      "text/plain": [
       "([<matplotlib.axis.XTick at 0x1ac835d03d0>,\n",
       "  <matplotlib.axis.XTick at 0x1ac835d0d00>,\n",
       "  <matplotlib.axis.XTick at 0x1ac832f17f0>,\n",
       "  <matplotlib.axis.XTick at 0x1ac83e54280>,\n",
       "  <matplotlib.axis.XTick at 0x1ac83e54790>,\n",
       "  <matplotlib.axis.XTick at 0x1ac83e54af0>,\n",
       "  <matplotlib.axis.XTick at 0x1ac83e54e50>,\n",
       "  <matplotlib.axis.XTick at 0x1ac83602370>,\n",
       "  <matplotlib.axis.XTick at 0x1ac83e3f610>,\n",
       "  <matplotlib.axis.XTick at 0x1ac83e3fb20>,\n",
       "  <matplotlib.axis.XTick at 0x1ac83e2d070>,\n",
       "  <matplotlib.axis.XTick at 0x1ac83e2d580>,\n",
       "  <matplotlib.axis.XTick at 0x1ac83e2da90>,\n",
       "  <matplotlib.axis.XTick at 0x1ac83e2dfa0>,\n",
       "  <matplotlib.axis.XTick at 0x1ac83e2d6d0>,\n",
       "  <matplotlib.axis.XTick at 0x1ac83e3fc70>,\n",
       "  <matplotlib.axis.XTick at 0x1ac83e54310>,\n",
       "  <matplotlib.axis.XTick at 0x1ac83e1b6a0>,\n",
       "  <matplotlib.axis.XTick at 0x1ac83e1bbb0>,\n",
       "  <matplotlib.axis.XTick at 0x1ac83e09100>,\n",
       "  <matplotlib.axis.XTick at 0x1ac83e09610>,\n",
       "  <matplotlib.axis.XTick at 0x1ac83e09b20>],\n",
       " [Text(0, 0, ''),\n",
       "  Text(0, 0, ''),\n",
       "  Text(0, 0, ''),\n",
       "  Text(0, 0, ''),\n",
       "  Text(0, 0, ''),\n",
       "  Text(0, 0, ''),\n",
       "  Text(0, 0, ''),\n",
       "  Text(0, 0, ''),\n",
       "  Text(0, 0, ''),\n",
       "  Text(0, 0, ''),\n",
       "  Text(0, 0, ''),\n",
       "  Text(0, 0, ''),\n",
       "  Text(0, 0, ''),\n",
       "  Text(0, 0, ''),\n",
       "  Text(0, 0, ''),\n",
       "  Text(0, 0, ''),\n",
       "  Text(0, 0, ''),\n",
       "  Text(0, 0, ''),\n",
       "  Text(0, 0, ''),\n",
       "  Text(0, 0, ''),\n",
       "  Text(0, 0, ''),\n",
       "  Text(0, 0, '')])"
      ]
     },
     "execution_count": 259,
     "metadata": {},
     "output_type": "execute_result"
    },
    {
     "data": {
      "image/png": "[encoded data removed]",
      "text/plain": [
       "<Figure size 792x360 with 1 Axes>"
      ]
     },
     "metadata": {
      "needs_background": "light"
     },
     "output_type": "display_data"
    }
   ],
   "source": [
    "dynamics_by_year.plot(kind='area',\n",
    "                             title='Динамика забитых мячей', \n",
    "                             xlabel='Год',\n",
    "                             stacked=False,\n",
    "                             ylabel='Забитые мячи, шт.')\n",
    "plt.xticks(df['to_year'].unique())"
   ]
  },
  {
   "cell_type": "markdown",
   "metadata": {},
   "source": [
    "Количество мячей, забитых сборными командами валово снижается в те года, когда проходит чемпионат мира по футболу (2002,/06/10/14/18)\n",
    "При это пиковое количество мячей приходится на года, когда разыгрывается чемпионаты континентов по футболу. Вероятно за счет большего количества матчей в календарном году.\n",
    "В 2020 году количество голов существуенно снижено за счет пандемии и отмены Чемпионата европы 2020."
   ]
  },
  {
   "cell_type": "code",
   "execution_count": 260,
   "metadata": {
    "scrolled": true
   },
   "outputs": [],
   "source": [
    "df['total_score'] = df['home_score'] + df['away_score'] "
   ]
  },
  {
   "cell_type": "code",
   "execution_count": 261,
   "metadata": {
    "scrolled": true
   },
   "outputs": [
    {
     "data": {
      "text/html": [
       "<div>\n",
       "<style scoped>\n",
       "    .dataframe tbody tr th:only-of-type {\n",
       "        vertical-align: middle;\n",
       "    }\n",
       "\n",
       "    .dataframe tbody tr th {\n",
       "        vertical-align: top;\n",
       "    }\n",
       "\n",
       "    .dataframe thead th {\n",
       "        text-align: right;\n",
       "    }\n",
       "</style>\n",
       "<table border=\"1\" class=\"dataframe\">\n",
       "  <thead>\n",
       "    <tr style=\"text-align: right;\">\n",
       "      <th></th>\n",
       "      <th>sum_</th>\n",
       "    </tr>\n",
       "    <tr>\n",
       "      <th>tournament</th>\n",
       "      <th></th>\n",
       "    </tr>\n",
       "  </thead>\n",
       "  <tbody>\n",
       "    <tr>\n",
       "      <th>Friendly</th>\n",
       "      <td>17730</td>\n",
       "    </tr>\n",
       "    <tr>\n",
       "      <th>FIFA World Cup qualification</th>\n",
       "      <td>12259</td>\n",
       "    </tr>\n",
       "    <tr>\n",
       "      <th>UEFA Euro qualification</th>\n",
       "      <td>3571</td>\n",
       "    </tr>\n",
       "    <tr>\n",
       "      <th>African Cup of Nations qualification</th>\n",
       "      <td>2248</td>\n",
       "    </tr>\n",
       "    <tr>\n",
       "      <th>AFC Asian Cup qualification</th>\n",
       "      <td>1366</td>\n",
       "    </tr>\n",
       "    <tr>\n",
       "      <th>CFU Caribbean Cup qualification</th>\n",
       "      <td>1110</td>\n",
       "    </tr>\n",
       "    <tr>\n",
       "      <th>Island Games</th>\n",
       "      <td>978</td>\n",
       "    </tr>\n",
       "    <tr>\n",
       "      <th>CECAFA Cup</th>\n",
       "      <td>858</td>\n",
       "    </tr>\n",
       "    <tr>\n",
       "      <th>AFF Championship</th>\n",
       "      <td>840</td>\n",
       "    </tr>\n",
       "    <tr>\n",
       "      <th>African Cup of Nations</th>\n",
       "      <td>835</td>\n",
       "    </tr>\n",
       "    <tr>\n",
       "      <th>FIFA World Cup</th>\n",
       "      <td>793</td>\n",
       "    </tr>\n",
       "    <tr>\n",
       "      <th>UEFA Nations League</th>\n",
       "      <td>710</td>\n",
       "    </tr>\n",
       "    <tr>\n",
       "      <th>Gold Cup</th>\n",
       "      <td>707</td>\n",
       "    </tr>\n",
       "    <tr>\n",
       "      <th>African Nations Championship</th>\n",
       "      <td>671</td>\n",
       "    </tr>\n",
       "    <tr>\n",
       "      <th>AFC Asian Cup</th>\n",
       "      <td>562</td>\n",
       "    </tr>\n",
       "  </tbody>\n",
       "</table>\n",
       "</div>"
      ],
      "text/plain": [
       "                                       sum_\n",
       "tournament                                 \n",
       "Friendly                              17730\n",
       "FIFA World Cup qualification          12259\n",
       "UEFA Euro qualification                3571\n",
       "African Cup of Nations qualification   2248\n",
       "AFC Asian Cup qualification            1366\n",
       "CFU Caribbean Cup qualification        1110\n",
       "Island Games                            978\n",
       "CECAFA Cup                              858\n",
       "AFF Championship                        840\n",
       "African Cup of Nations                  835\n",
       "FIFA World Cup                          793\n",
       "UEFA Nations League                     710\n",
       "Gold Cup                                707\n",
       "African Nations Championship            671\n",
       "AFC Asian Cup                           562"
      ]
     },
     "execution_count": 261,
     "metadata": {},
     "output_type": "execute_result"
    }
   ],
   "source": [
    "res = df.groupby('tournament').agg({'total_score':['sum']})\n",
    "res.columns = ['sum_']\n",
    "res.sort_values(by='sum_' , ascending = False ).head(15)"
   ]
  },
  {
   "cell_type": "code",
   "execution_count": 262,
   "metadata": {},
   "outputs": [
    {
     "data": {
      "text/plain": [
       "<AxesSubplot:title={'center':'Platforms by Games'}, xlabel='Platforms', ylabel='Games quantity'>"
      ]
     },
     "execution_count": 262,
     "metadata": {},
     "output_type": "execute_result"
    },
    {
     "data": {
      "image/png": "[encoded data removed]",
      "text/plain": [
       "<Figure size 792x360 with 1 Axes>"
      ]
     },
     "metadata": {
      "needs_background": "light"
     },
     "output_type": "display_data"
    }
   ],
   "source": [
    "res.sort_values(by='sum_' , ascending = False ).head(15).plot(kind='bar', \n",
    "                   title='Platforms by Games',\n",
    "                   xlabel='Platforms',\n",
    "                   ylabel='Games quantity')"
   ]
  },
  {
   "cell_type": "markdown",
   "metadata": {},
   "source": [
    "Наибольшее количество голов в 21 веке забито \n",
    "1. в товарещиских матчах. \n",
    "2. в отборочных матчах к чемпионатам мира\n",
    "3. в отборочных матчах на чемпионат европы\n",
    "\n",
    "Примечательно, что в матчах отборов на ЧМ забито достаточно много голов, учитывая, что играются эти матчи 2 года через 2, а товарищеские игры каждый год."
   ]
  },
  {
   "cell_type": "code",
   "execution_count": 231,
   "metadata": {},
   "outputs": [
    {
     "data": {
      "text/plain": [
       "'Netherlands'"
      ]
     },
     "execution_count": 231,
     "metadata": {},
     "output_type": "execute_result"
    }
   ],
   "source": [
    "import random \n",
    "list_stran = list(set(list(df.home_team.unique() ) + list(df.away_team.unique())))\n",
    "strana = list_stran[random.randint(1,len(list_stran))]\n",
    "strana"
   ]
  },
  {
   "cell_type": "code",
   "execution_count": 232,
   "metadata": {
    "scrolled": true
   },
   "outputs": [],
   "source": [
    "info_home = df.loc[df['home_team'] == strana].groupby('tournament').agg(['count','sum'])['home_score'].reset_index()\n",
    "info_home.columns = ['tournament', 'count_', 'sum_']\n",
    "info_home.head()\n",
    "info_away = df.loc[df['away_team'] == strana].groupby('tournament').agg(['count','sum'])['away_score'].reset_index()\n",
    "info_away.columns = ['tournament', 'count_', 'sum_']\n",
    "info_away.head()\n",
    "all_games = pd.concat([info_home,info_away]).groupby('tournament').agg('sum')\n",
    "all_games['avg_scores'] = all_games['sum_']/all_games['count_']\n",
    "all_games = all_games['avg_scores'].sort_values()"
   ]
  },
  {
   "cell_type": "code",
   "execution_count": 233,
   "metadata": {},
   "outputs": [
    {
     "data": {
      "text/plain": [
       "<AxesSubplot:title={'center':'Среднее количество голов по турнирам команды Netherlands'}, ylabel='Турнир'>"
      ]
     },
     "execution_count": 233,
     "metadata": {},
     "output_type": "execute_result"
    },
    {
     "data": {
      "image/png": "[encoded data removed]",
      "text/plain": [
       "<Figure size 792x360 with 1 Axes>"
      ]
     },
     "metadata": {
      "needs_background": "light"
     },
     "output_type": "display_data"
    }
   ],
   "source": [
    "all_games.plot(kind='barh', \n",
    "                                                                  title='Среднее количество голов по турнирам команды '+strana,\n",
    "                                                                  xlabel='Турнир',\n",
    "                                                                  ylabel='Среднее кол-во голов')"
   ]
  },
  {
   "cell_type": "markdown",
   "metadata": {},
   "source": [
    "В квалификации к чемпионату мира сборная Голландии забивае в среднем за матч больше 2,5 голов.\n",
    "В лиге Наций коменда не так результативна, довольствуется в среднем 1,5 голами за матч.\n",
    "Аналогичную статистику можно посмтреть по любой стране."
   ]
  },
  {
   "cell_type": "code",
   "execution_count": 269,
   "metadata": {},
   "outputs": [],
   "source": [
    "info_home = df.groupby('home_res').agg(['count'])['home_team']['count']"
   ]
  },
  {
   "cell_type": "code",
   "execution_count": 270,
   "metadata": {},
   "outputs": [],
   "source": [
    "info_away = df.groupby('away_res').agg(['count'])['away_team']['count']"
   ]
  },
  {
   "cell_type": "code",
   "execution_count": 274,
   "metadata": {},
   "outputs": [
    {
     "data": {
      "image/png": "[encoded data removed]",
      "text/plain": [
       "<Figure size 792x360 with 1 Axes>"
      ]
     },
     "metadata": {},
     "output_type": "display_data"
    }
   ],
   "source": [
    "info_home.plot(kind='pie' ,title='Доля результатов домашних команд')\n",
    "plt.show()"
   ]
  },
  {
   "cell_type": "markdown",
   "metadata": {},
   "source": [
    "Как видно из графика, если команда играет дома, то чаще побеждает, почти в половине случаев.\n",
    "Интересно, что % поражений дома чуть выше, чем ничейные исходы игр."
   ]
  },
  {
   "cell_type": "code",
   "execution_count": null,
   "metadata": {},
   "outputs": [],
   "source": []
  }
 ],
 "metadata": {
  "kernelspec": {
   "display_name": "Python 3",
   "language": "python",
   "name": "python3"
  },
  "language_info": {
   "codemirror_mode": {
    "name": "ipython",
    "version": 3
   },
   "file_extension": ".py",
   "mimetype": "text/x-python",
   "name": "python",
   "nbconvert_exporter": "python",
   "pygments_lexer": "ipython3",
   "version": "3.8.5"
  }
 },
 "nbformat": 4,
 "nbformat_minor": 4
}
