{
 "cells": [
  {
   "cell_type": "markdown",
   "metadata": {},
   "source": [
    "Скачайте с сайта https://grouplens.org/datasets/movielens/ датасет любого размера. Определите какому фильму было выставлено больше всего оценок 5.0."
   ]
  },
  {
   "cell_type": "code",
   "execution_count": 10,
   "metadata": {},
   "outputs": [],
   "source": [
    "import pandas as pd\n",
    "data = pd.read_csv('ratings.csv')\n",
    "data2 = pd.read_csv('movies.csv')\n"
   ]
  },
  {
   "cell_type": "code",
   "execution_count": 12,
   "metadata": {},
   "outputs": [
    {
     "data": {
      "text/html": [
       "<div>\n",
       "<style scoped>\n",
       "    .dataframe tbody tr th:only-of-type {\n",
       "        vertical-align: middle;\n",
       "    }\n",
       "\n",
       "    .dataframe tbody tr th {\n",
       "        vertical-align: top;\n",
       "    }\n",
       "\n",
       "    .dataframe thead th {\n",
       "        text-align: right;\n",
       "    }\n",
       "</style>\n",
       "<table border=\"1\" class=\"dataframe\">\n",
       "  <thead>\n",
       "    <tr style=\"text-align: right;\">\n",
       "      <th></th>\n",
       "      <th>title</th>\n",
       "    </tr>\n",
       "    <tr>\n",
       "      <th>movieId</th>\n",
       "      <th></th>\n",
       "    </tr>\n",
       "  </thead>\n",
       "  <tbody>\n",
       "    <tr>\n",
       "      <th>318</th>\n",
       "      <td>Swimming with Sharks (1995)</td>\n",
       "    </tr>\n",
       "  </tbody>\n",
       "</table>\n",
       "</div>"
      ],
      "text/plain": [
       "                               title\n",
       "movieId                             \n",
       "318      Swimming with Sharks (1995)"
      ]
     },
     "execution_count": 12,
     "metadata": {},
     "output_type": "execute_result"
    }
   ],
   "source": [
    "data = data [(data['rating'] == 5.0)]\n",
    "data1 = data[['movieId','rating']].groupby(['movieId']).count().sort_values('rating', ascending = False).head(1)\n",
    "data1.join(data2, on='movieId', how='inner')[['title']]"
   ]
  },
  {
   "cell_type": "code",
   "execution_count": 67,
   "metadata": {},
   "outputs": [],
   "source": [
    "data = None\n",
    "data1 = None\n",
    "data2 = None\n"
   ]
  },
  {
   "cell_type": "markdown",
   "metadata": {},
   "source": [
    "Задание 2\n",
    "По данным файла power.csv посчитайте суммарное потребление стран Прибалтики (Латвия, Литва и Эстония) категорий 4, 12 и 21 за период с 2005 по 2010 года. Не учитывайте в расчетах отрицательные значения quantity."
   ]
  },
  {
   "cell_type": "code",
   "execution_count": 68,
   "metadata": {},
   "outputs": [],
   "source": [
    "data = pd.read_csv('power.csv')"
   ]
  },
  {
   "cell_type": "code",
   "execution_count": 90,
   "metadata": {},
   "outputs": [],
   "source": [
    "data = data[ data.quantity > 0 ]\n",
    "# data['country'].isin(['Latvia', 'Estonia', 'Lithuania']). - метод для сокращения фильтров"
   ]
  },
  {
   "cell_type": "code",
   "execution_count": 94,
   "metadata": {},
   "outputs": [
    {
     "data": {
      "text/plain": [
       "240580.0"
      ]
     },
     "execution_count": 94,
     "metadata": {},
     "output_type": "execute_result"
    }
   ],
   "source": [
    "data[  ((data['country'] == 'Latvia') | (data['country'] == 'Lithuania') | (data['country'] == 'Estonia'))\n",
    "                          & ((data['category'] == 4) | (data['category'] == 12) | (data['category'] == 21)) \n",
    "                          & ((2005<=data['year']) & (data['year']<=2010))  ].quantity.sum()\n"
   ]
  },
  {
   "cell_type": "code",
   "execution_count": 76,
   "metadata": {},
   "outputs": [
    {
     "data": {
      "text/plain": [
       "[0          False\n",
       " 1          False\n",
       " 2          False\n",
       " 3          False\n",
       " 4          False\n",
       "            ...  \n",
       " 1189477    False\n",
       " 1189478    False\n",
       " 1189479    False\n",
       " 1189480    False\n",
       " 1189481    False\n",
       " Name: country, Length: 1189482, dtype: bool]"
      ]
     },
     "execution_count": 76,
     "metadata": {},
     "output_type": "execute_result"
    }
   ],
   "source": [
    "filtered_countries"
   ]
  },
  {
   "cell_type": "markdown",
   "metadata": {},
   "source": [
    "Задание 3\n",
    "Выберите страницу любого сайта с табличными данными. Импортируйте таблицы в pandas dataframe.\n",
    "Примеры страниц (необязательно брать именно эти):\n",
    "https://fortrader.org/quotes\n",
    "https://www.finanz.ru/valyuty/v-realnom-vremeni"
   ]
  },
  {
   "cell_type": "code",
   "execution_count": 97,
   "metadata": {},
   "outputs": [],
   "source": [
    "page_url = 'https://fortrader.org/bankrates'\n",
    "\n",
    "# Импортируем нужную нам страницу в df\n",
    "# attrs = {'class': 'news_table'} ---> указываем какой именно блок нам нужен\n",
    "# encoding='utf-8' ---> указываем кодировку страниц для корректного отображения кириллицы\n",
    "df = pd.read_html(page_url, encoding='utf-8')"
   ]
  },
  {
   "cell_type": "code",
   "execution_count": 98,
   "metadata": {},
   "outputs": [
    {
     "data": {
      "text/plain": [
       "[   Страна                                Банк  \\\n",
       " 0     NaN                   ЦБ РФ Банк России   \n",
       " 1     NaN    ЕЦБ Европейский Центральный Банк   \n",
       " 2     NaN   ФРС Федеральная Резервная Система   \n",
       " 3     NaN        РБА Резервный Банк Австралии   \n",
       " 4     NaN                     BOJ Банк Японии   \n",
       " 5     NaN  РБНЗ Резервный Банк Новой Зеландии   \n",
       " 6     NaN                  SNB Банк Швейцарии   \n",
       " 7     NaN                     BOC Банк Канады   \n",
       " 8     NaN                     BOE Банк Англии   \n",
       " \n",
       "                                          Название Значение  \\\n",
       " 0                                 Ключевая ставка       5%   \n",
       " 1                             Ставка по депозитам       0%   \n",
       " 2                              Федеральный Резерв    0.25%   \n",
       " 3                               Процентная ставка     0.1%   \n",
       " 4           Целевая процентная ставка по овернайт    -0.1%   \n",
       " 5                               Процентная ставка    0.25%   \n",
       " 6  Диапазон трехмесячной процентной ставки LIibor   -0.75%   \n",
       " 7           Целевая процентная ставка по овернайт    0.25%   \n",
       " 8                               Процентная ставка     0.1%   \n",
       " \n",
       "   Последнее заседание Следующее заседание  \n",
       " 0   23.04.2021 (0.5%)          11.06.2021  \n",
       " 1          22.04.2021          10.06.2021  \n",
       " 2          28.04.2021          16.06.2021  \n",
       " 3          06.04.2021          04.05.2021  \n",
       " 4          21.01.2021          19.03.2021  \n",
       " 5          24.02.2021          14.04.2021  \n",
       " 6          25.03.2021          17.06.2021  \n",
       " 7          10.03.2021          21.04.2021  \n",
       " 8          18.03.2021          06.05.2021  ]"
      ]
     },
     "execution_count": 98,
     "metadata": {},
     "output_type": "execute_result"
    }
   ],
   "source": [
    "df\n"
   ]
  },
  {
   "cell_type": "code",
   "execution_count": null,
   "metadata": {},
   "outputs": [],
   "source": []
  }
 ],
 "metadata": {
  "kernelspec": {
   "display_name": "Python 3",
   "language": "python",
   "name": "python3"
  },
  "language_info": {
   "codemirror_mode": {
    "name": "ipython",
    "version": 3
   },
   "file_extension": ".py",
   "mimetype": "text/x-python",
   "name": "python",
   "nbconvert_exporter": "python",
   "pygments_lexer": "ipython3",
   "version": "3.8.5"
  }
 },
 "nbformat": 4,
 "nbformat_minor": 4
}
