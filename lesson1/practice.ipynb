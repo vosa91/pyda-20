{
 "cells": [
  {
   "cell_type": "code",
   "execution_count": 2,
   "metadata": {},
   "outputs": [],
   "source": [
    "#Задание 1\n",
    "#Дана переменная, в которой хранится слово из латинских букв. Напишите код, который выводит на экран:\n",
    "\n",
    "#среднюю букву, если число букв в слове нечетное;\n",
    "#две средних буквы, если число букв четное."
   ]
  },
  {
   "cell_type": "code",
   "execution_count": 36,
   "metadata": {},
   "outputs": [
    {
     "name": "stdout",
     "output_type": "stream",
     "text": [
      "В слове \"Александр\" - 9 букв, в середине буква \"с\" \n"
     ]
    }
   ],
   "source": [
    "word = 'Александр'\n",
    "word_len = len(word)\n",
    "idx = int(word_len/2 - 1)\n",
    "if word_len % 2 == 0:\n",
    "    print(f'В слове \"{str(word)}\" - {str(word_len)} букв, в середине буквы \"{str(word[idx:idx+2])}\"')\n",
    "else:\n",
    "    idx = idx + 1 \n",
    "    print(f'В слове \"{str(word)}\" - {str(word_len)} букв, в середине буква \"{str(word[idx])}\" ')"
   ]
  },
  {
   "cell_type": "code",
   "execution_count": 37,
   "metadata": {},
   "outputs": [],
   "source": [
    "#Задание 2\n",
    "#Напишите программу, которая последовательно запрашивает у пользователя числа (по одному за раз) и после первого нуля выводит сумму всех ранее введенных чисел."
   ]
  },
  {
   "cell_type": "code",
   "execution_count": 40,
   "metadata": {},
   "outputs": [
    {
     "name": "stdout",
     "output_type": "stream",
     "text": [
      "Введите число:4\n",
      "Введите число:5\n",
      "Введите число:4\n",
      "Введите число:11\n",
      "Введите число:0\n",
      "Сумма чисел = 24.0\n"
     ]
    }
   ],
   "source": [
    "numsum = 0\n",
    "flag = 0\n",
    "while flag != 1:\n",
    "    num = float(input('Введите число:'))\n",
    "    if num != 0:\n",
    "        numsum = numsum + num   \n",
    "    else:\n",
    "        flag = 1    \n",
    "print(f'Сумма чисел = {str(numsum)}')"
   ]
  },
  {
   "cell_type": "code",
   "execution_count": null,
   "metadata": {},
   "outputs": [],
   "source": [
    "#Задание 3\n",
    "#Мы делаем MVP dating-сервиса, и у нас есть список парней и девушек.\n",
    "#Выдвигаем гипотезу: лучшие рекомендации мы получим, если просто отсортируем имена по алфавиту и познакомим людей \n",
    "#с одинаковыми индексами после сортировки! Но мы не будем никого знакомить, если кто-то может остаться без пары:"
   ]
  },
  {
   "cell_type": "code",
   "execution_count": 90,
   "metadata": {},
   "outputs": [
    {
     "name": "stdout",
     "output_type": "stream",
     "text": [
      "Идеальные пары:\n",
      "Alex и Emma\n",
      "Arthur и Kate\n",
      "John и Kira\n",
      "Peter и Liza\n",
      "Richard и Trisha\n"
     ]
    }
   ],
   "source": [
    "ind = 1\n",
    "boys = sorted(['Peter', 'Alex', 'John', 'Arthur', 'Richard'])\n",
    "girls = sorted(['Kate', 'Liza', 'Kira', 'Emma', 'Trisha'])\n",
    "if len(boys) == len(girls):\n",
    "    print ('Идеальные пары:')\n",
    "    girls_for_boys = list(zip (boys,girls  ))\n",
    "    while ind <= len(girls_for_boys):\n",
    "        print(f'{girls_for_boys[ind-1][0]} и {girls_for_boys[ind-1][1]}')\n",
    "        ind = ind + 1\n",
    "else:\n",
    "    print('Внимание, кто-то может остаться без пары!')"
   ]
  },
  {
   "cell_type": "code",
   "execution_count": 93,
   "metadata": {},
   "outputs": [],
   "source": [
    "#Задание 4\n",
    "#У нас есть список, содержащий информацию о среднедневной температуре в Фаренгейтах за произвольный период по странам \n",
    "#(структура данных в примере). \n",
    "#Необходимо написать код, который рассчитает среднюю температуру за период в Цельсиях(!) для каждой страны."
   ]
  },
  {
   "cell_type": "code",
   "execution_count": 203,
   "metadata": {},
   "outputs": [
    {
     "name": "stdout",
     "output_type": "stream",
     "text": [
      "Средняя температура в Thailand = 23.9 C\n",
      "Средняя температура в Germany = 13.8 C\n",
      "Средняя температура в Russia = 3.7 C\n",
      "Средняя температура в Poland = 12.0 C\n"
     ]
    }
   ],
   "source": [
    "countries_temperature = [\n",
    "['Thailand', [75.2, 77, 78.8, 73.4, 68, 75.2, 77]],\n",
    "['Germany', [57.2, 55.4, 59, 59, 53.6]],\n",
    "['Russia', [35.6, 37.4, 39.2, 41, 42.8, 39.2, 35.6]],\n",
    "['Poland', [50, 50, 53.6, 57.2, 55.4, 55.4]]\n",
    "]\n",
    "c_temp_list =[]\n",
    "idx_t = 0 \n",
    "idx_c = 0 \n",
    "while idx_c < len(countries_temperature):\n",
    "    while idx_t < len(countries_temperature[idx_c][1]):\n",
    "        c_temp_list.append((countries_temperature[idx_c][1][idx_t]-32)*5/9)\n",
    "        idx_t +=1\n",
    "    print (f'Средняя температура в {countries_temperature[idx_c][0]} = {round(sum(c_temp_list)/len(c_temp_list),1)} C')\n",
    "    idx_c +=1\n",
    "    idx_t = 0\n",
    "    c_temp_list.clear()\n",
    "    \n",
    "#print(f'{countries_temperature[0]} - первая строка списка')\n",
    "#print(f'{countries_temperature[0][0]} - первый элемент из первой строки списка')\n",
    "#print(f'{countries_temperature[0][1]} - второй элемент из первой строки списка')\n",
    "#print(f'{countries_temperature[0][1][0]} - первое значение из второго элемента списка')\n",
    "#print(f'{countries_temperature[0][1][1]} - второе значение из второго элемента списка')"
   ]
  },
  {
   "cell_type": "code",
   "execution_count": null,
   "metadata": {},
   "outputs": [],
   "source": []
  }
 ],
 "metadata": {
  "kernelspec": {
   "display_name": "Python 3",
   "language": "python",
   "name": "python3"
  }
 },
 "nbformat": 4,
 "nbformat_minor": 4
}
