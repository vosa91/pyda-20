{
 "cells": [
  {
   "cell_type": "markdown",
   "metadata": {},
   "source": [
    "## Практика 3\n",
    "* [Первая](#id1)\n",
    "* [Вторая](#id2)\n",
    "* [Третья](#id3)\n",
    "* [Четвертая](#id4)\n",
    "* [Пятая](#id5)\n",
    "<a id=\"idbegin\"></a>"
   ]
  },
  {
   "cell_type": "markdown",
   "metadata": {},
   "source": [
    "### Задание 1\n",
    "Дана переменная, в которой хранится словарь, содержащий гео-метки для каждого пользователя \n",
    "(пример структуры данных приведен ниже). \n",
    "Вам необходимо написать программу, которая выведет на экран множество уникальных гео-меток всех пользователей.\n",
    "<a id=\"id1\"></a>\n",
    "* [К началу](#idbegin)"
   ]
  },
  {
   "cell_type": "code",
   "execution_count": 37,
   "metadata": {},
   "outputs": [
    {
     "name": "stdout",
     "output_type": "stream",
     "text": [
      "Результат: {98, 35, 15, 213, 54, 119}\n"
     ]
    }
   ],
   "source": [
    "ids = {'user1': [213, 213, 213, 15, 213],\n",
    "'user2': [54, 54, 119, 119, 119],\n",
    "'user3': [213, 98, 98, 35]}\n",
    "\n",
    "mnozh_ids = set()\n",
    "\n",
    "for key in ids:\n",
    "    mnozh_ids.update(ids.get(key))\n",
    "print(f'Результат: {list_ids}')\n",
    "    "
   ]
  },
  {
   "cell_type": "markdown",
   "metadata": {},
   "source": [
    "### Задание 2\n",
    "Дана переменная, в которой хранится список поисковых запросов пользователя (пример структуры данных приведен ниже). \n",
    "Вам необходимо написать программу, которая выведет на экран распределение количества слов в запросах в требуемом виде.\n",
    "<a id=\"id2\"></a>\n",
    "* [К началу](#idbegin)"
   ]
  },
  {
   "cell_type": "code",
   "execution_count": 107,
   "metadata": {},
   "outputs": [
    {
     "name": "stdout",
     "output_type": "stream",
     "text": [
      "Поисковых запросов, содержащих 2 слов(а): 42.86%\n",
      "Поисковых запросов, содержащих 3 слов(а): 57.14%\n"
     ]
    }
   ],
   "source": [
    "queries = [\n",
    "'смотреть сериалы онлайн',\n",
    "'новости спорта',\n",
    "'афиша кино',\n",
    "'курс доллара',\n",
    "'сериалы этим летом',\n",
    "'курс по питону',\n",
    "'сериалы про спорт'\n",
    "]\n",
    "\n",
    "res = {}\n",
    "list_count_words = []\n",
    "all_queres_count = 0\n",
    "\n",
    "for el in queries:\n",
    "    list_count_words.append(len(el.split(' ')))\n",
    "    all_queres_count +=1 \n",
    "unique_count_words = set(list)\n",
    "\n",
    "for words_count in unique_count_words:\n",
    "        res [words_count] = list.count(words_count)\n",
    "        \n",
    "for el in res:\n",
    "    print(f'Поисковых запросов, содержащих {el} слов(а): {(round(res.get(el) / all_queres_count,4))*100}%')\n",
    "\n"
   ]
  },
  {
   "cell_type": "markdown",
   "metadata": {},
   "source": [
    "### Задание 3\n",
    "Дана переменная, в которой хранится информация о затратах и доходе рекламных кампаний по различным источникам. Необходимо дополнить исходную структуру показателем ROI, который рассчитаем по формуле: (revenue / cost - 1) * 100\n",
    "<a id=\"id3\"></a>\n",
    "* [К началу](#idbegin)"
   ]
  },
  {
   "cell_type": "code",
   "execution_count": 100,
   "metadata": {},
   "outputs": [
    {
     "data": {
      "text/plain": [
       "[('adwords', {'revenue': 35, 'cost': 34, 'ROI': 2.94}),\n",
       " ('facebook', {'revenue': 103, 'cost': 110, 'ROI': -6.36}),\n",
       " ('twitter', {'revenue': 11, 'cost': 24, 'ROI': -54.17}),\n",
       " ('vk', {'revenue': 103, 'cost': 98, 'ROI': 5.1}),\n",
       " ('yandex', {'revenue': 179, 'cost': 153, 'ROI': 16.99})]"
      ]
     },
     "execution_count": 100,
     "metadata": {},
     "output_type": "execute_result"
    }
   ],
   "source": [
    "results = {\n",
    "'vk': {'revenue': 103, 'cost': 98},\n",
    "'yandex': {'revenue': 179, 'cost': 153},\n",
    "'facebook': {'revenue': 103, 'cost': 110},\n",
    "'adwords': {'revenue': 35, 'cost': 34},\n",
    "'twitter': {'revenue': 11, 'cost': 24},\n",
    "}\n",
    "roi = 0\n",
    "\n",
    "for keys, indexes in results.items():\n",
    "#    if keys == 'vk':\n",
    " #       print(list(indexes.keys()))\n",
    "    for el in list(indexes.keys()):\n",
    "        if el == 'revenue':\n",
    "            roi = indexes.get(el)\n",
    "        else:\n",
    "            roi = (roi / indexes.get(el) - 1 ) * 100\n",
    "    indexes.setdefault('ROI', round(roi,2))\n",
    " #   print (indexes)\n",
    "    results[keys] = indexes\n",
    "    ##  for el in indexes.keys()\n",
    " \n",
    "#results = {key: results[key] for key in sorted(results, key=results.get)} - почему-то не роботает...\n",
    "#results\n",
    "\n",
    "sorted(results.items())"
   ]
  },
  {
   "cell_type": "markdown",
   "metadata": {},
   "source": [
    "### Задание 4\n",
    "Дана переменная, в которой хранится статистика рекламных каналов по объемам продаж (пример структуры данных приведен ниже). Напишите программу, которая возвращает название канала с максимальным объемом продаж.\n",
    "\n",
    "<a id=\"id4\"></a>\n",
    "* [К началу](#idbegin)"
   ]
  },
  {
   "cell_type": "code",
   "execution_count": 145,
   "metadata": {},
   "outputs": [
    {
     "name": "stdout",
     "output_type": "stream",
     "text": [
      "Максимальный объем продаж на рекламном канале: vk\n"
     ]
    }
   ],
   "source": [
    "stats = {'facebook': 55, 'yandex': 115, 'vk': 120, 'google': 99, 'email': 42, 'ok': 98}\n",
    "my_dict = {key: stats[key] for key in sorted(stats, key=stats.get,reverse=True)}\n",
    "my_dict\n",
    "\n",
    "for el, lel in enumerate(my_dict):\n",
    "    print(f'Максимальный объем продаж на рекламном канале: {lel}')\n",
    "    break"
   ]
  },
  {
   "cell_type": "markdown",
   "metadata": {},
   "source": [
    "### Задание 5 (необязательно)\n",
    "Дан список произвольной длины. Необходимо написать код, который на основе исходного списка составит словарь такого уровня вложенности, какова длина исхондого списка. (Взял решение у Олега, чтобы не потерять :) )\n",
    "<a id=\"id5\"></a>\n",
    "* [К началу](#idbegin)"
   ]
  },
  {
   "cell_type": "code",
   "execution_count": 143,
   "metadata": {},
   "outputs": [
    {
     "data": {
      "text/plain": [
       "{'2018-01-01': {'yandex': {'cpc': 100}}}"
      ]
     },
     "execution_count": 143,
     "metadata": {},
     "output_type": "execute_result"
    }
   ],
   "source": [
    "my_list = ['2018-01-01', 'yandex', 'cpc', 100]\n",
    "\n",
    "last_el = my_list[-1]\n",
    "\n",
    "for el in reversed(my_list[:-1]):\n",
    "    last_el = {el:last_el}\n",
    "    \n",
    "last_el"
   ]
  },
  {
   "cell_type": "code",
   "execution_count": null,
   "metadata": {},
   "outputs": [],
   "source": []
  }
 ],
 "metadata": {
  "kernelspec": {
   "display_name": "Python 3",
   "language": "python",
   "name": "python3"
  },
  "language_info": {
   "codemirror_mode": {
    "name": "ipython",
    "version": 3
   },
   "file_extension": ".py",
   "mimetype": "text/x-python",
   "name": "python",
   "nbconvert_exporter": "python",
   "pygments_lexer": "ipython3",
   "version": "3.8.5"
  }
 },
 "nbformat": 4,
 "nbformat_minor": 4
}
